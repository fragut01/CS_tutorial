{
 "cells": [
  {
   "cell_type": "code",
   "execution_count": 1,
   "metadata": {},
   "outputs": [],
   "source": [
    "import numpy as np\n",
    "import tkinter\n",
    "import matplotlib\n",
    "import random\n",
    "matplotlib.use('TkAgg')\n",
    "import matplotlib.pyplot as plt"
   ]
  },
  {
   "cell_type": "code",
   "execution_count": 5,
   "metadata": {},
   "outputs": [
    {
     "ename": "ModuleNotFoundError",
     "evalue": "No module named 'obspy'",
     "output_type": "error",
     "traceback": [
      "\u001b[1;31m---------------------------------------------------------------------------\u001b[0m",
      "\u001b[1;31mModuleNotFoundError\u001b[0m                       Traceback (most recent call last)",
      "\u001b[1;32m<ipython-input-5-22b7ae7c146e>\u001b[0m in \u001b[0;36m<module>\u001b[1;34m\u001b[0m\n\u001b[0;32m      2\u001b[0m \u001b[1;33m\u001b[0m\u001b[0m\n\u001b[0;32m      3\u001b[0m \u001b[1;31m### Read a stream of the segy file using ObsPy\u001b[0m\u001b[1;33m\u001b[0m\u001b[1;33m\u001b[0m\u001b[1;33m\u001b[0m\u001b[0m\n\u001b[1;32m----> 4\u001b[1;33m \u001b[1;32mfrom\u001b[0m \u001b[0mobspy\u001b[0m\u001b[1;33m.\u001b[0m\u001b[0mio\u001b[0m\u001b[1;33m.\u001b[0m\u001b[0msegy\u001b[0m\u001b[1;33m.\u001b[0m\u001b[0mcore\u001b[0m \u001b[1;32mimport\u001b[0m \u001b[0m_read_segy\u001b[0m\u001b[1;33m\u001b[0m\u001b[1;33m\u001b[0m\u001b[0m\n\u001b[0m\u001b[0;32m      5\u001b[0m st = _read_segy(filename,\n\u001b[0;32m      6\u001b[0m                 \u001b[0mtextual_header_encoding\u001b[0m\u001b[1;33m=\u001b[0m\u001b[1;34m\"EBCDIC\"\u001b[0m\u001b[1;33m,\u001b[0m\u001b[1;33m\u001b[0m\u001b[1;33m\u001b[0m\u001b[0m\n",
      "\u001b[1;31mModuleNotFoundError\u001b[0m: No module named 'obspy'"
     ]
    }
   ],
   "source": [
    "filename=\"/data/input/jgo/gob_20200731_synthetic_shot-gather.sgy\"\n",
    "\n",
    "### Read a stream of the segy file using ObsPy\n",
    "from obspy.io.segy.core import _read_segy\n",
    "st = _read_segy(filename,\n",
    "                textual_header_encoding=\"EBCDIC\",\n",
    "                unpack_trace_headers=True)\n",
    "\n",
    "l1    = st[0].stats.npts ### Get the number of samples\n",
    "l2    = len(st) ### Get number of traces\n",
    "fs    = st[0].stats.sampling_rate ### Get the sampling rate(samples by second)\n",
    "delta = st[0].stats.delta ### Get the time sampling (fs = 1/delta ?)\n",
    "\n",
    "### Construct an ndarray of all traces.\n",
    "data = np.stack([t.data for t in st.traces]).T ### shape = (l1, l2)\n",
    "\n",
    "fig=plt.figure(figsize=(10,10))\n",
    "plt.subplot(1,1,1)\n",
    "plt.imshow(data,cmap='seismic',interpolation=\"nearest\",extent=(1,l2+1,fs*l1,0),vmin=-10000,vmax=10000,aspect=\"auto\")\n",
    "plt.xlabel(\"Trace\")\n",
    "plt.ylabel(\"Time(s)\")\n",
    "plt.title(\"Segy file\")\n",
    "plt.colorbar()\n",
    "plt.show()"
   ]
  },
  {
   "cell_type": "code",
   "execution_count": null,
   "metadata": {},
   "outputs": [],
   "source": [
    "Otrans = np.fft.fft2(data,'ortho')\n",
    "O_shift = np.fft.fftshift(Otrans) \n",
    "AbsOtrans = np.abs(O_shift)\n",
    "mag_spect_1 = 20*np.log(AbsOtrans)"
   ]
  },
  {
   "cell_type": "code",
   "execution_count": null,
   "metadata": {},
   "outputs": [],
   "source": []
  }
 ],
 "metadata": {
  "kernelspec": {
   "display_name": "Python 3",
   "language": "python",
   "name": "python3"
  },
  "language_info": {
   "codemirror_mode": {
    "name": "ipython",
    "version": 3
   },
   "file_extension": ".py",
   "mimetype": "text/x-python",
   "name": "python",
   "nbconvert_exporter": "python",
   "pygments_lexer": "ipython3",
   "version": "3.8.5"
  }
 },
 "nbformat": 4,
 "nbformat_minor": 4
}
